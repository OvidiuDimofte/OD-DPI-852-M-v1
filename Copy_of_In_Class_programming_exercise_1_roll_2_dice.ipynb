{
  "nbformat": 4,
  "nbformat_minor": 0,
  "metadata": {
    "colab": {
      "provenance": [],
      "include_colab_link": true
    },
    "kernelspec": {
      "name": "python3",
      "display_name": "Python 3"
    },
    "language_info": {
      "name": "python"
    }
  },
  "cells": [
    {
      "cell_type": "markdown",
      "metadata": {
        "id": "view-in-github",
        "colab_type": "text"
      },
      "source": [
        "<a href=\"https://colab.research.google.com/github/OvidiuDimofte/OD-DPI-852-M-v1/blob/main/Copy_of_In_Class_programming_exercise_1_roll_2_dice.ipynb\" target=\"_parent\"><img src=\"https://colab.research.google.com/assets/colab-badge.svg\" alt=\"Open In Colab\"/></a>"
      ]
    },
    {
      "cell_type": "markdown",
      "source": [
        "# **Roll 2 Dice: In-class programming exercise**\n",
        "\n",
        "## Write code to for each step to simulate rolling 2 dice multiple times and save their total values to plot a histogram.\n",
        "\n"
      ],
      "metadata": {
        "id": "cmNDC7Tnvl4n"
      }
    },
    {
      "cell_type": "markdown",
      "source": [
        "Step 0: Import the **random** module"
      ],
      "metadata": {
        "id": "wFIjIe71zCzk"
      }
    },
    {
      "cell_type": "code",
      "execution_count": 8,
      "metadata": {
        "id": "uMS-uo59vksn"
      },
      "outputs": [],
      "source": [
        "import random"
      ]
    },
    {
      "cell_type": "markdown",
      "source": [
        "Step 1: Use Python's [random number generator](https://www.w3schools.com/python/ref_random_randint.asp) to roll 1 die; create a variable **single_die_roll** to store that value\n"
      ],
      "metadata": {
        "id": "8iq0MOLqzPAB"
      }
    },
    {
      "cell_type": "code",
      "source": [
        "# This will store a random integer between 1 and 6, simulating a die roll\n",
        "single_die_roll = random.randint(1, 6)\n"
      ],
      "metadata": {
        "id": "7-fZAmWszc0B"
      },
      "execution_count": 9,
      "outputs": []
    },
    {
      "cell_type": "markdown",
      "source": [
        "Step 2: Create a variable **single_die_roll** to store that value"
      ],
      "metadata": {
        "id": "q3b_jeuUznBQ"
      }
    },
    {
      "cell_type": "code",
      "source": [
        "# This will store a random integer between 1 and 6, simulating a die roll\n",
        "single_die_roll = random.randint(1, 6)"
      ],
      "metadata": {
        "id": "F8WAAxwB0CD2"
      },
      "execution_count": 10,
      "outputs": []
    },
    {
      "cell_type": "markdown",
      "source": [
        "Step 3: Create a new [Function](https://www.w3schools.com/python/\n",
        "\n",
        "---\n",
        "\n",
        "python_functions.asp) called **roll_dice()** that generates 2 integers; save these 2 values in 2 variables **roll_die_1** and **roll_die_2**"
      ],
      "metadata": {
        "id": "aL0zpbT10DS2"
      }
    },
    {
      "cell_type": "code",
      "source": [
        "def roll_dice() :\n",
        "  roll_dice_1=random.randint(1, 6)\n",
        "  roll_dice_2=random.randint(1, 6)\n",
        "\n"
      ],
      "metadata": {
        "id": "vUFr4cxO0NbQ"
      },
      "execution_count": 11,
      "outputs": []
    },
    {
      "cell_type": "markdown",
      "source": [
        "Step 4: *Revise the Function*: Inside the roll_dice() function, create a [List](https://www.w3schools.com/python/python_lists.asp) call **double_dice_roll** and [append](https://www.w3schools.com/python/python_lists_add.asp) these 2 integers into that List"
      ],
      "metadata": {
        "id": "RVAbeHid0QA2"
      }
    },
    {
      "cell_type": "code",
      "source": [
        "def roll_dice() :\n",
        "  double_dice_roll = []\n",
        "  roll_dice_1=random.randint(1, 6)\n",
        "  roll_dice_2=random.randint(1, 6)\n",
        "  double_dice_roll.append(roll_dice_1)\n",
        "  double_dice_roll.append(roll_dice_2)\n"
      ],
      "metadata": {
        "id": "xxL6hVsC0PCt"
      },
      "execution_count": 12,
      "outputs": []
    },
    {
      "cell_type": "markdown",
      "source": [
        "Step 5: *Revise the Function*: [Return](https://www.w3schools.com/python/gloss_python_function_return_value.asp) the List **double_dice_roll**"
      ],
      "metadata": {
        "id": "AkImDXwu0XqY"
      }
    },
    {
      "cell_type": "code",
      "source": [
        "def roll_dice() :\n",
        "  double_dice_roll = []\n",
        "  roll_dice_1=random.randint(1, 6)\n",
        "  roll_dice_2=random.randint(1, 6)\n",
        "  double_dice_roll.append(roll_dice_1)\n",
        "  double_dice_roll.append(roll_dice_2)\n",
        "  return (double_dice_roll)"
      ],
      "metadata": {
        "id": "EaqwRt0Q0p9G"
      },
      "execution_count": 20,
      "outputs": []
    },
    {
      "cell_type": "markdown",
      "source": [
        "Step 6: Call the **roll_dice()** and print out the value of **double_dice_roll**"
      ],
      "metadata": {
        "id": "pA8ih5C10wNS"
      }
    },
    {
      "cell_type": "code",
      "source": [
        "roll_dice()\n",
        "\n",
        "\n",
        "\n",
        "\n",
        "\n"
      ],
      "metadata": {
        "id": "oYE-tWho2daO",
        "colab": {
          "base_uri": "https://localhost:8080/"
        },
        "outputId": "d08b17b0-3890-42a5-ce84-1158cea396fc"
      },
      "execution_count": 43,
      "outputs": [
        {
          "output_type": "execute_result",
          "data": {
            "text/plain": [
              "[2, 6]"
            ]
          },
          "metadata": {},
          "execution_count": 43
        }
      ]
    },
    {
      "cell_type": "markdown",
      "source": [
        "Step 7: Create a new Function called **sum_numbers_in_list()** that accepts a single [argument](https://www.w3schools.com/python/gloss_python_function_arguments.asp#:~:text=The%20terms%20parameter%20and%20argument,function%20when%20it%20is%20called.) (a List with 2 numbers) and returns their sum (how to look up [look up](https://www.w3schools.com/python/python_lists_access.asp) the values inside a List)"
      ],
      "metadata": {
        "id": "zqp9_Aoz3iEa"
      }
    },
    {
      "cell_type": "code",
      "source": [
        "def sum_numbers_in_list(numbers_list):\n",
        "  if len(numbers_list) == 2:\n",
        "        # Return the sum of the two numbers\n",
        "        return numbers_list[0] + numbers_list[1]\n",
        "  else:\n",
        "        # Return an error message if the list does not have two numbers\n",
        "        return \"The list must contain exactly two numbers.\"\n",
        "        numbers_list()\n",
        "        sum_numbers_in_list()"
      ],
      "metadata": {
        "id": "2HmG0N883e9p"
      },
      "execution_count": 44,
      "outputs": []
    },
    {
      "cell_type": "markdown",
      "source": [
        "Step 8: Create another List called **rolls_total_values**"
      ],
      "metadata": {
        "id": "lMX7I-j03r-K"
      }
    },
    {
      "cell_type": "code",
      "source": [
        "rolls_total_values=[]"
      ],
      "metadata": {
        "id": "t5IKOIWQ3noO"
      },
      "execution_count": 45,
      "outputs": []
    },
    {
      "cell_type": "markdown",
      "source": [
        "Step 9: Write For Loop that does 3 steps: 1. roll dice; 2. call the sum_numbers_in_list() function to calculate the sum; 3. append the sum to rolls_total_values List"
      ],
      "metadata": {
        "id": "lDLcad5TNMTi"
      }
    },
    {
      "cell_type": "code",
      "source": [
        "# Initialize an empty list to store the total values of dice rolls\n",
        "rolls_total_values = []\n",
        "\n",
        "# Define the number of times you want to roll the dice\n",
        "number_of_rolls = 100\n",
        "\n",
        "# For loop to roll the dice multiple times\n",
        "for _ in range(number_of_rolls):\n",
        "    # Step 1: Roll the dice\n",
        "    dice_rolls = roll_dice()\n",
        "\n",
        "    # Step 2: Call the sum_numbers_in_list() function to calculate the sum\n",
        "    sum_of_rolls = sum_numbers_in_list(dice_rolls)\n",
        "\n",
        "    # Step 3: Append the sum to the rolls_total_values list\n",
        "    rolls_total_values.append(sum_of_rolls)\n"
      ],
      "metadata": {
        "id": "wIGqVa-TNNDV"
      },
      "execution_count": 102,
      "outputs": []
    },
    {
      "cell_type": "markdown",
      "source": [
        "Step 10: Print out the **dice_values_total** List"
      ],
      "metadata": {
        "id": "po1ZRYfANSD-"
      }
    },
    {
      "cell_type": "code",
      "source": [
        "print(rolls_total_values)"
      ],
      "metadata": {
        "id": "qSCtSOkNNSfL",
        "colab": {
          "base_uri": "https://localhost:8080/"
        },
        "outputId": "f934dbeb-0d3d-4a10-e5c6-41fc94c87c3c"
      },
      "execution_count": 104,
      "outputs": [
        {
          "output_type": "stream",
          "name": "stdout",
          "text": [
            "[4, 11, 8, 11, 8, 6, 4, 5, 5, 9, 7, 6, 8, 9, 7, 12, 7, 9, 10, 7, 5, 10, 5, 4, 10, 4, 7, 3, 6, 6, 7, 10, 6, 3, 3, 10, 6, 10, 6, 10, 5, 8, 9, 8, 6, 6, 3, 5, 5, 7, 10, 7, 6, 7, 4, 7, 4, 4, 8, 6, 11, 5, 9, 4, 8, 6, 11, 11, 7, 4, 7, 10, 6, 6, 9, 7, 7, 11, 6, 6, 12, 6, 3, 6, 6, 8, 8, 5, 5, 8, 3, 6, 5, 6, 8, 6, 5, 7, 6, 8]\n"
          ]
        }
      ]
    },
    {
      "cell_type": "markdown",
      "source": [
        "Step 11: Plot a [Histogram](https://www.w3schools.com/python/matplotlib_histograms.asp) of all 100 dice rolls which are stored in the **rolls_total_values** List"
      ],
      "metadata": {
        "id": "ISMl5IlJNNTK"
      }
    },
    {
      "cell_type": "code",
      "source": [
        "import matplotlib.pyplot as plt\n",
        "\n",
        "# Plot a histogram of the dice roll sums\n",
        "plt.hist(rolls_total_values, bins=range(2, 13), edgecolor='black')\n",
        "\n",
        "# Add titles and labels\n",
        "plt.title('Histogram of Dice Roll Sums')\n",
        "plt.xlabel('Sum of Dice Rolls')\n",
        "plt.ylabel('Frequency')\n",
        "\n",
        "# Show the plot\n",
        "plt.show()\n"
      ],
      "metadata": {
        "id": "9KFCRAThNcoI",
        "colab": {
          "base_uri": "https://localhost:8080/",
          "height": 472
        },
        "outputId": "600dde1f-a1e4-4f2e-ff36-39bf3f92647f"
      },
      "execution_count": 105,
      "outputs": [
        {
          "output_type": "display_data",
          "data": {
            "text/plain": [
              "<Figure size 640x480 with 1 Axes>"
            ],
            "image/png": "[encoded data removed]"
          },
          "metadata": {}
        }
      ]
    },
    {
      "cell_type": "markdown",
      "source": [
        "Step 12: Save the values of the 100 dice rols in a CSV files"
      ],
      "metadata": {
        "id": "9Cg9F3mUxeJn"
      }
    },
    {
      "cell_type": "code",
      "source": [
        "# prompt: Save the values of the 100 dice rols in a CSV files\n",
        "\n",
        "import csv\n",
        "import random\n",
        "\n",
        "# Create a CSV file\n",
        "with open('dice_rolls.csv', 'w', newline='') as csvfile:\n",
        "    # Create a CSV writer\n",
        "    csvwriter = csv.writer(csvfile)\n",
        "\n",
        "    # Write the header row\n",
        "    csvwriter.writerow(['Roll 1', 'Roll 2', 'Total'])\n",
        "\n",
        "    # Write the data rows\n",
        "    for i in range(100):\n",
        "        # Roll the dice\n",
        "        roll_1, roll_2 = random.randint(1, 6), random.randint(1, 6)\n",
        "\n",
        "        # Calculate the total\n",
        "        total = roll_1 + roll_2\n",
        "\n",
        "        # Write the data row\n",
        "        csvwriter.writerow([roll_1, roll_2, total])\n"
      ],
      "metadata": {
        "id": "suEM2AySxn9N"
      },
      "execution_count": 106,
      "outputs": []
    },
    {
      "cell_type": "markdown",
      "source": [
        "# New Section"
      ],
      "metadata": {
        "id": "_XSQCHXHPubC"
      }
    },
    {
      "cell_type": "markdown",
      "source": [
        "Step 13: Download the CSV file (click the folder icon in the left navigation menu) and upload it to your GitHub account."
      ],
      "metadata": {
        "id": "dZ1GoG6ly80q"
      }
    },
    {
      "cell_type": "markdown",
      "source": [
        "## **Challenge**\n",
        "Create a Function called roll_x_times().  Ask the user to [input](https://www.w3schools.com/python/python_user_input.asp) how many rolls and produced a histogram chart."
      ],
      "metadata": {
        "id": "GweJ9KnSNc56"
      }
    },
    {
      "cell_type": "code",
      "source": [
        "#import\n",
        "import matplotlib.pyplot as plt\n",
        "import csv\n",
        "import random\n",
        "import statistics\n",
        "\n",
        "#Create Function roll_x_times and ask for input\n",
        "def roll_x_times():\n",
        "    num_rolls = int(input(\"Enter the number of times you want to roll the dice: \"))\n",
        "\n",
        "#Define the list\n",
        "    rolls_total_values = []\n",
        "\n",
        "\n",
        "# Create a CSV file\n",
        "    with open('dice_rolls.csv', 'w', newline='') as csvfile:\n",
        "        csvwriter = csv.writer(csvfile)\n",
        "\n",
        "# Loop x_times and write [dice_rolls[0], dice_rolls[1], sum_of_rolls]\n",
        "\n",
        "        for _ in range(num_rolls):\n",
        "            dice_rolls = roll_dice()\n",
        "            sum_of_rolls = sum_numbers_in_list(dice_rolls)\n",
        "            rolls_total_values.append(sum_of_rolls)\n",
        "            csvwriter.writerow([dice_rolls[0], dice_rolls[1], sum_of_rolls])\n",
        "\n",
        "#Histogram\n",
        "    plt.hist(rolls_total_values, bins=range(2, 13), edgecolor='black')\n",
        "    plt.title('Histogram of Dice Roll Sums')\n",
        "    plt.xlabel('Sum of Dice Rolls')\n",
        "    plt.ylabel('Frequency')\n",
        "    plt.show()\n",
        "\n",
        "# Call the function to execute\n",
        "roll_x_times()\n",
        "\n",
        "#Statistical\n",
        "# Calculate the mean (average) of the distribution\n",
        "mean_value = statistics.mean(rolls_total_values)\n",
        "\n",
        "# Calculate the standard deviation of the distribution\n",
        "std_deviation = statistics.stdev(rolls_total_values)\n",
        "\n",
        "print(f\"The mean (average) is: {mean_value}\")\n",
        "print(f\"The standard deviation is: {std_deviation}\")\n",
        "\n",
        "\n"
      ],
      "metadata": {
        "colab": {
          "base_uri": "https://localhost:8080/",
          "height": 523
        },
        "id": "NE-0EbfYRZgC",
        "outputId": "6ddc3630-136d-4936-829b-6d8e5bfb80e3"
      },
      "execution_count": 120,
      "outputs": [
        {
          "name": "stdout",
          "output_type": "stream",
          "text": [
            "Enter the number of times you want to roll the dice: 100\n"
          ]
        },
        {
          "output_type": "display_data",
          "data": {
            "text/plain": [
              "<Figure size 640x480 with 1 Axes>"
            ],
            "image/png": "[encoded data removed]"
          },
          "metadata": {}
        },
        {
          "output_type": "stream",
          "name": "stdout",
          "text": [
            "The mean (average) is: 6.87\n",
            "The standard deviation is: 2.2681590452491323\n"
          ]
        }
      ]
    },
    {
      "cell_type": "markdown",
      "source": [
        "# END"
      ],
      "metadata": {
        "id": "G2t4Y3wAzOCO"
      }
    }
  ]
}